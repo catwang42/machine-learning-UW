{
 "cells": [
  {
   "cell_type": "code",
   "execution_count": 3,
   "metadata": {
    "collapsed": true
   },
   "outputs": [],
   "source": [
    "import pandas as pd\n",
    "import numpy as np"
   ]
  },
  {
   "cell_type": "code",
   "execution_count": 6,
   "metadata": {
    "collapsed": false
   },
   "outputs": [],
   "source": [
    "house_data = pd.read_csv(\"housePrice/kc_house_data.csv\",\n",
    "                         dtype = {'bathrooms':float, 'waterfront':int, 'sqft_above':int, \n",
    "                                  'sqft_living15':float, 'grade':int, 'yr_renovated':int, \n",
    "                                  'price':float, 'bedrooms':float, 'zipcode':str, \n",
    "                                  'long':float, 'sqft_lot15':float, 'sqft_living':float, \n",
    "                                  'floors':str, 'condition':int, 'lat':float, 'date':str,\n",
    "                                  'sqft_basement':int, 'yr_built':int, 'id':str, 'sqft_lot':int, \n",
    "                                  'view':int})\n",
    "train_data = pd.read_csv(\"housePrice/kc_house_train_data.csv\",\n",
    "                         dtype = {'bathrooms':float, 'waterfront':int, 'sqft_above':int, \n",
    "                                  'sqft_living15':float, 'grade':int, 'yr_renovated':int, \n",
    "                                  'price':float, 'bedrooms':float, 'zipcode':str, 'long':float, \n",
    "                                  'sqft_lot15':float, 'sqft_living':float, 'floors':str, \n",
    "                                  'condition':int, 'lat':float, 'date':str, 'sqft_basement':int, \n",
    "                                  'yr_built':int, 'id':str, 'sqft_lot':int, 'view':int})\n",
    "test_data = pd.read_csv(\"housePrice/kc_house_test_data.csv\",\n",
    "                        dtype = {'bathrooms':float, 'waterfront':int, 'sqft_above':int, \n",
    "                                 'sqft_living15':float, 'grade':int, 'yr_renovated':int, \n",
    "                                 'price':float, 'bedrooms':float, 'zipcode':str, 'long':float, \n",
    "                                 'sqft_lot15':float, 'sqft_living':float, 'floors':str, 'condition':int, \n",
    "                                 'lat':float, 'date':str, 'sqft_basement':int, 'yr_built':int, 'id':str,\n",
    "                                 'sqft_lot':int, 'view':int})"
   ]
  },
  {
   "cell_type": "code",
   "execution_count": 13,
   "metadata": {
    "collapsed": false
   },
   "outputs": [],
   "source": [
    "price = house_data['price']"
   ]
  },
  {
   "cell_type": "code",
   "execution_count": 24,
   "metadata": {
    "collapsed": false
   },
   "outputs": [
    {
     "data": {
      "text/plain": [
       "540088.1417665294"
      ]
     },
     "execution_count": 24,
     "metadata": {},
     "output_type": "execute_result"
    }
   ],
   "source": [
    "price.mean()"
   ]
  },
  {
   "cell_type": "markdown",
   "metadata": {},
   "source": [
    "# Build a generic simple linear regression function "
   ]
  },
  {
   "cell_type": "code",
   "execution_count": 26,
   "metadata": {
    "collapsed": true
   },
   "outputs": [],
   "source": [
    "def simple_linear_regression(input_feature,output):\n",
    "    numerator = (input_feature * output).mean(axis=0) - (output.mean(axis=0))*(input_feature.mean(axis=0))\n",
    "    denominator = (input_feature**2).mean(axis=0) - input_feature.mean(axis=0) * input_feature.mean(axis=0)\n",
    "    slope = numerator/denominator\n",
    "    intercept = output.mean(axis=0) - slope * (input_feature.mean(axis=0))\n",
    "    return (intercept, slope)"
   ]
  },
  {
   "cell_type": "markdown",
   "metadata": {},
   "source": [
    "Run some tests on the simple_linear_regression model "
   ]
  },
  {
   "cell_type": "code",
   "execution_count": 32,
   "metadata": {
    "collapsed": false
   },
   "outputs": [
    {
     "name": "stdout",
     "output_type": "stream",
     "text": [
      "Intercept:3.0\n",
      "Slope:5.0\n"
     ]
    }
   ],
   "source": [
    "test_feature = pd.Series(range(5))\n",
    "test_output = pd.Series(3+5*test_feature)\n",
    "(test_intercept, test_slope) = simple_linear_regression(test_feature,test_output)\n",
    "print ('Intercept:' + str(test_intercept))\n",
    "print ('Slope:' + str(test_slope))"
   ]
  },
  {
   "cell_type": "markdown",
   "metadata": {},
   "source": [
    "Now we know the simple regression worked, let train our training data."
   ]
  },
  {
   "cell_type": "code",
   "execution_count": 33,
   "metadata": {
    "collapsed": false
   },
   "outputs": [
    {
     "name": "stdout",
     "output_type": "stream",
     "text": [
      "Intercept:-47116.07907289488\n",
      "Slope:281.95883963034294\n"
     ]
    }
   ],
   "source": [
    "sqft_intercept, sqft_slope = simple_linear_regression(train_data['sqft_living'], train_data['price'])\n",
    "print ('Intercept:' + str(sqft_intercept))\n",
    "print ('Slope:' + str(sqft_slope))"
   ]
  },
  {
   "cell_type": "markdown",
   "metadata": {},
   "source": [
    "## Predicting Values\n",
    "convert panda dataframe to numpy array "
   ]
  },
  {
   "cell_type": "code",
   "execution_count": 34,
   "metadata": {
    "collapsed": true
   },
   "outputs": [],
   "source": [
    "def get_regression_predictions(input_feature, intercept, slope):\n",
    "    predicted_values = intercept + slope * input_feature\n",
    "    return predicted_values"
   ]
  },
  {
   "cell_type": "code",
   "execution_count": 35,
   "metadata": {
    "collapsed": false
   },
   "outputs": [
    {
     "name": "stdout",
     "output_type": "stream",
     "text": [
      "The estimated price for a house with 2650 squarefeet is $700074.85\n"
     ]
    }
   ],
   "source": [
    "my_house_sqft = 2650\n",
    "estimated_price = get_regression_predictions(my_house_sqft, sqft_intercept, sqft_slope)\n",
    "print (\"The estimated price for a house with %d squarefeet is $%.2f\" % (my_house_sqft, estimated_price))"
   ]
  },
  {
   "cell_type": "markdown",
   "metadata": {},
   "source": [
    "# Residual Sum of Squares"
   ]
  },
  {
   "cell_type": "markdown",
   "metadata": {},
   "source": [
    "rewrite function using lambda"
   ]
  },
  {
   "cell_type": "code",
   "execution_count": 39,
   "metadata": {
    "collapsed": true
   },
   "outputs": [],
   "source": [
    "def get_residual_sum_of_squares(input_feature, output, intercept, slope):\n",
    "    # First get the predictions\n",
    "    predictions = input_feature.apply(lambda x:get_regression_predictions(x, intercept, slope))\n",
    "    diff = np.subtract(predictions,output)\n",
    "    # square the residuals and add them up\n",
    "    RSS = np.vdot(diff,diff)\n",
    "    return(RSS)"
   ]
  },
  {
   "cell_type": "code",
   "execution_count": 42,
   "metadata": {
    "collapsed": false
   },
   "outputs": [
    {
     "data": {
      "text/plain": [
       "0.0"
      ]
     },
     "execution_count": 42,
     "metadata": {},
     "output_type": "execute_result"
    }
   ],
   "source": [
    "get_residual_sum_of_squares(test_feature,test_output,test_intercept,test_slope) #test pass when return 0 "
   ]
  },
  {
   "cell_type": "code",
   "execution_count": 55,
   "metadata": {
    "collapsed": false
   },
   "outputs": [
    {
     "name": "stdout",
     "output_type": "stream",
     "text": [
      "The RSS of predicting Prices based on Square Feet is : 1.20191835418e+15\n"
     ]
    }
   ],
   "source": [
    "#compute the RSS on training data\n",
    "rss_on_sqft = get_residual_sum_of_squares(train_data['sqft_living'], train_data['price'], sqft_intercept, sqft_slope)\n",
    "print ('The RSS of predicting Prices based on Square Feet is : ' + str(rss_on_sqft))"
   ]
  },
  {
   "cell_type": "markdown",
   "metadata": {},
   "source": [
    "# Predict the squarefeet given price"
   ]
  },
  {
   "cell_type": "code",
   "execution_count": 47,
   "metadata": {
    "collapsed": true
   },
   "outputs": [],
   "source": [
    "#inverse prediction, predict squarefoot given the price? \n",
    "def inverse_regression_predictions(output, intercept, slope):\n",
    "    estimated_input = (output - intercept)/slope\n",
    "    return(estimated_input)"
   ]
  },
  {
   "cell_type": "code",
   "execution_count": 48,
   "metadata": {
    "collapsed": false
   },
   "outputs": [
    {
     "name": "stdout",
     "output_type": "stream",
     "text": [
      "3004.3962451522752\n"
     ]
    }
   ],
   "source": [
    "my_house_price = 800000\n",
    "print (inverse_regression_predictions(my_house_price,sqft_intercept,sqft_slope))"
   ]
  },
  {
   "cell_type": "markdown",
   "metadata": {},
   "source": [
    "# Which feature has the lowest RSS on TEST data "
   ]
  },
  {
   "cell_type": "code",
   "execution_count": 54,
   "metadata": {
    "collapsed": false
   },
   "outputs": [
    {
     "name": "stdout",
     "output_type": "stream",
     "text": [
      "sqft_living Intercept: 109473.17762295791\n",
      "sqft_living Slope: 127588.95293398833\n"
     ]
    }
   ],
   "source": [
    "#Estimate the slope and intercept for feature 'bedroom'\n",
    "sqft_bed_intercept, sqft_bed_slope = simple_linear_regression(train_data['bedrooms'], train_data['price'])\n",
    "print (\"bedroom Intercept: \"+ str(sqft_bed_intercept))\n",
    "print (\"bedroom Slope: \" + str(sqft_bed_slope))"
   ]
  },
  {
   "cell_type": "code",
   "execution_count": 50,
   "metadata": {
    "collapsed": true
   },
   "outputs": [],
   "source": [
    "# def get_residual_sum_of_squares(input_feature, output, intercept,slope):\n",
    "#     RSS = (((intercept + input_feature*slope) - output)**2).sum(axis=0)\n",
    "#     return(RSS)"
   ]
  },
  {
   "cell_type": "code",
   "execution_count": 57,
   "metadata": {
    "collapsed": false
   },
   "outputs": [
    {
     "name": "stdout",
     "output_type": "stream",
     "text": [
      "The RSS of predicting Prices based on Bedrooms is : 5.08067591494e+14\n",
      "The RSS of predicting Prices based on Square Feet is : 2.75402933618e+14\n",
      "-2.32664657876e+14\n"
     ]
    }
   ],
   "source": [
    "#which model has better RSS on test data \n",
    "RSS_sqf = get_residual_sum_of_squares(test_data['sqft_living'],test_data['price'],sqft_intercept,sqft_slope)\n",
    "RSS_bed = get_residual_sum_of_squares(test_data['bedrooms'],test_data['price'],sqft_bed_intercept,sqft_bed_intercept)\n",
    "print ('The RSS of predicting Prices based on Bedrooms is : ' + str(RSS_bed))\n",
    "print ('The RSS of predicting Prices based on Square Feet is : ' + str(RSS_sqf))\n",
    "print (RSS_sqf - RSS_bed)"
   ]
  },
  {
   "cell_type": "code",
   "execution_count": null,
   "metadata": {
    "collapsed": true
   },
   "outputs": [],
   "source": []
  }
 ],
 "metadata": {
  "kernelspec": {
   "display_name": "Python 3",
   "language": "python",
   "name": "python3"
  },
  "language_info": {
   "codemirror_mode": {
    "name": "ipython",
    "version": 3
   },
   "file_extension": ".py",
   "mimetype": "text/x-python",
   "name": "python",
   "nbconvert_exporter": "python",
   "pygments_lexer": "ipython3",
   "version": "3.6.0"
  }
 },
 "nbformat": 4,
 "nbformat_minor": 2
}
