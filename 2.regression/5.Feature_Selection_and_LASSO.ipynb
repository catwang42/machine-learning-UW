{
 "cells": [
  {
   "cell_type": "code",
   "execution_count": 1,
   "metadata": {
    "collapsed": true
   },
   "outputs": [],
   "source": [
    "import pandas as pd\n",
    "import numpy as np"
   ]
  },
  {
   "cell_type": "code",
   "execution_count": 25,
   "metadata": {
    "collapsed": false
   },
   "outputs": [],
   "source": [
    "sales = pd.read_csv('kc_house_data 2.csv')"
   ]
  },
  {
   "cell_type": "code",
   "execution_count": 26,
   "metadata": {
    "collapsed": true
   },
   "outputs": [],
   "source": [
    "from math import log, sqrt"
   ]
  },
  {
   "cell_type": "markdown",
   "metadata": {},
   "source": [
    "## Simple feature engineering "
   ]
  },
  {
   "cell_type": "code",
   "execution_count": 27,
   "metadata": {
    "collapsed": true
   },
   "outputs": [],
   "source": [
    "sales['sqft_living_sqrt'] = sales['sqft_living'].apply(sqrt)\n",
    "sales['sqft_lot_sqrt'] = sales['sqft_lot'].apply(sqrt)\n",
    "sales['bedrooms_square'] = sales['bedrooms']*sales['bedrooms']\n",
    "\n",
    "# In the dataset, 'floors' was defined with type string, \n",
    "# so we'll convert them to float, before creating a new feature.\n",
    "sales['floors'] = sales['floors'].astype(float) \n",
    "sales['floors_square'] = sales['floors']*sales['floors']"
   ]
  },
  {
   "cell_type": "code",
   "execution_count": 28,
   "metadata": {
    "collapsed": false
   },
   "outputs": [
    {
     "data": {
      "text/html": [
       "<div>\n",
       "<table border=\"1\" class=\"dataframe\">\n",
       "  <thead>\n",
       "    <tr style=\"text-align: right;\">\n",
       "      <th></th>\n",
       "      <th>id</th>\n",
       "      <th>date</th>\n",
       "      <th>price</th>\n",
       "      <th>bedrooms</th>\n",
       "      <th>bathrooms</th>\n",
       "      <th>sqft_living</th>\n",
       "      <th>sqft_lot</th>\n",
       "      <th>floors</th>\n",
       "      <th>waterfront</th>\n",
       "      <th>view</th>\n",
       "      <th>...</th>\n",
       "      <th>yr_renovated</th>\n",
       "      <th>zipcode</th>\n",
       "      <th>lat</th>\n",
       "      <th>long</th>\n",
       "      <th>sqft_living15</th>\n",
       "      <th>sqft_lot15</th>\n",
       "      <th>sqft_living_sqrt</th>\n",
       "      <th>sqft_lot_sqrt</th>\n",
       "      <th>bedrooms_square</th>\n",
       "      <th>floors_square</th>\n",
       "    </tr>\n",
       "  </thead>\n",
       "  <tbody>\n",
       "    <tr>\n",
       "      <th>0</th>\n",
       "      <td>7129300520</td>\n",
       "      <td>20141013T000000</td>\n",
       "      <td>221900.0</td>\n",
       "      <td>3</td>\n",
       "      <td>1.00</td>\n",
       "      <td>1180</td>\n",
       "      <td>5650</td>\n",
       "      <td>1.0</td>\n",
       "      <td>0</td>\n",
       "      <td>0</td>\n",
       "      <td>...</td>\n",
       "      <td>0</td>\n",
       "      <td>98178</td>\n",
       "      <td>47.5112</td>\n",
       "      <td>-122.257</td>\n",
       "      <td>1340</td>\n",
       "      <td>5650</td>\n",
       "      <td>34.351128</td>\n",
       "      <td>75.166482</td>\n",
       "      <td>9</td>\n",
       "      <td>1.0</td>\n",
       "    </tr>\n",
       "    <tr>\n",
       "      <th>1</th>\n",
       "      <td>6414100192</td>\n",
       "      <td>20141209T000000</td>\n",
       "      <td>538000.0</td>\n",
       "      <td>3</td>\n",
       "      <td>2.25</td>\n",
       "      <td>2570</td>\n",
       "      <td>7242</td>\n",
       "      <td>2.0</td>\n",
       "      <td>0</td>\n",
       "      <td>0</td>\n",
       "      <td>...</td>\n",
       "      <td>1991</td>\n",
       "      <td>98125</td>\n",
       "      <td>47.7210</td>\n",
       "      <td>-122.319</td>\n",
       "      <td>1690</td>\n",
       "      <td>7639</td>\n",
       "      <td>50.695167</td>\n",
       "      <td>85.099941</td>\n",
       "      <td>9</td>\n",
       "      <td>4.0</td>\n",
       "    </tr>\n",
       "    <tr>\n",
       "      <th>2</th>\n",
       "      <td>5631500400</td>\n",
       "      <td>20150225T000000</td>\n",
       "      <td>180000.0</td>\n",
       "      <td>2</td>\n",
       "      <td>1.00</td>\n",
       "      <td>770</td>\n",
       "      <td>10000</td>\n",
       "      <td>1.0</td>\n",
       "      <td>0</td>\n",
       "      <td>0</td>\n",
       "      <td>...</td>\n",
       "      <td>0</td>\n",
       "      <td>98028</td>\n",
       "      <td>47.7379</td>\n",
       "      <td>-122.233</td>\n",
       "      <td>2720</td>\n",
       "      <td>8062</td>\n",
       "      <td>27.748874</td>\n",
       "      <td>100.000000</td>\n",
       "      <td>4</td>\n",
       "      <td>1.0</td>\n",
       "    </tr>\n",
       "    <tr>\n",
       "      <th>3</th>\n",
       "      <td>2487200875</td>\n",
       "      <td>20141209T000000</td>\n",
       "      <td>604000.0</td>\n",
       "      <td>4</td>\n",
       "      <td>3.00</td>\n",
       "      <td>1960</td>\n",
       "      <td>5000</td>\n",
       "      <td>1.0</td>\n",
       "      <td>0</td>\n",
       "      <td>0</td>\n",
       "      <td>...</td>\n",
       "      <td>0</td>\n",
       "      <td>98136</td>\n",
       "      <td>47.5208</td>\n",
       "      <td>-122.393</td>\n",
       "      <td>1360</td>\n",
       "      <td>5000</td>\n",
       "      <td>44.271887</td>\n",
       "      <td>70.710678</td>\n",
       "      <td>16</td>\n",
       "      <td>1.0</td>\n",
       "    </tr>\n",
       "    <tr>\n",
       "      <th>4</th>\n",
       "      <td>1954400510</td>\n",
       "      <td>20150218T000000</td>\n",
       "      <td>510000.0</td>\n",
       "      <td>3</td>\n",
       "      <td>2.00</td>\n",
       "      <td>1680</td>\n",
       "      <td>8080</td>\n",
       "      <td>1.0</td>\n",
       "      <td>0</td>\n",
       "      <td>0</td>\n",
       "      <td>...</td>\n",
       "      <td>0</td>\n",
       "      <td>98074</td>\n",
       "      <td>47.6168</td>\n",
       "      <td>-122.045</td>\n",
       "      <td>1800</td>\n",
       "      <td>7503</td>\n",
       "      <td>40.987803</td>\n",
       "      <td>89.888820</td>\n",
       "      <td>9</td>\n",
       "      <td>1.0</td>\n",
       "    </tr>\n",
       "  </tbody>\n",
       "</table>\n",
       "<p>5 rows × 25 columns</p>\n",
       "</div>"
      ],
      "text/plain": [
       "           id             date     price  bedrooms  bathrooms  sqft_living  \\\n",
       "0  7129300520  20141013T000000  221900.0         3       1.00         1180   \n",
       "1  6414100192  20141209T000000  538000.0         3       2.25         2570   \n",
       "2  5631500400  20150225T000000  180000.0         2       1.00          770   \n",
       "3  2487200875  20141209T000000  604000.0         4       3.00         1960   \n",
       "4  1954400510  20150218T000000  510000.0         3       2.00         1680   \n",
       "\n",
       "   sqft_lot  floors  waterfront  view      ...        yr_renovated  zipcode  \\\n",
       "0      5650     1.0           0     0      ...                   0    98178   \n",
       "1      7242     2.0           0     0      ...                1991    98125   \n",
       "2     10000     1.0           0     0      ...                   0    98028   \n",
       "3      5000     1.0           0     0      ...                   0    98136   \n",
       "4      8080     1.0           0     0      ...                   0    98074   \n",
       "\n",
       "       lat     long  sqft_living15  sqft_lot15  sqft_living_sqrt  \\\n",
       "0  47.5112 -122.257           1340        5650         34.351128   \n",
       "1  47.7210 -122.319           1690        7639         50.695167   \n",
       "2  47.7379 -122.233           2720        8062         27.748874   \n",
       "3  47.5208 -122.393           1360        5000         44.271887   \n",
       "4  47.6168 -122.045           1800        7503         40.987803   \n",
       "\n",
       "   sqft_lot_sqrt  bedrooms_square  floors_square  \n",
       "0      75.166482                9            1.0  \n",
       "1      85.099941                9            4.0  \n",
       "2     100.000000                4            1.0  \n",
       "3      70.710678               16            1.0  \n",
       "4      89.888820                9            1.0  \n",
       "\n",
       "[5 rows x 25 columns]"
      ]
     },
     "execution_count": 28,
     "metadata": {},
     "output_type": "execute_result"
    }
   ],
   "source": [
    "sales.head(5)"
   ]
  },
  {
   "cell_type": "markdown",
   "metadata": {},
   "source": [
    "## Learn regression weights with L1 penalty "
   ]
  },
  {
   "cell_type": "code",
   "execution_count": 56,
   "metadata": {
    "collapsed": true
   },
   "outputs": [],
   "source": [
    "all_features = ['bedrooms', 'bedrooms_square',\n",
    "            'bathrooms',\n",
    "            'sqft_living', 'sqft_living_sqrt',\n",
    "            'sqft_lot', 'sqft_lot_sqrt',\n",
    "            'floors', 'floors_square',\n",
    "            'waterfront', 'view', 'condition', 'grade',\n",
    "            'sqft_above',\n",
    "            'sqft_basement',\n",
    "            'yr_built', 'yr_renovated']"
   ]
  },
  {
   "cell_type": "code",
   "execution_count": 32,
   "metadata": {
    "collapsed": false
   },
   "outputs": [
    {
     "data": {
      "text/plain": [
       "Lasso(alpha=100000000, copy_X=True, fit_intercept=True, max_iter=1000,\n",
       "   normalize=False, positive=False, precompute=False, random_state=None,\n",
       "   selection='cyclic', tol=0.0001, warm_start=False)"
      ]
     },
     "execution_count": 32,
     "metadata": {},
     "output_type": "execute_result"
    }
   ],
   "source": [
    "from sklearn import linear_model \n",
    "penalty = 1e10 #penalty too big \n",
    "model_all = linear_model.Lasso(alpha = 100000000)\n",
    "model_all.fit(sales[all_features], sales['price'])"
   ]
  },
  {
   "cell_type": "code",
   "execution_count": 33,
   "metadata": {
    "collapsed": false
   },
   "outputs": [
    {
     "name": "stdout",
     "output_type": "stream",
     "text": [
      "bedrooms              0.000000\n",
      "bedrooms_square       0.000000\n",
      "bathrooms             0.000000\n",
      "sqft_living         161.142560\n",
      "sqft_living_sqrt      0.000000\n",
      "sqft_lot              0.118888\n",
      "sqft_lot_sqrt         0.000000\n",
      "floors                0.000000\n",
      "floors_square         0.000000\n",
      "waterfront            0.000000\n",
      "view                  0.000000\n",
      "condition             0.000000\n",
      "grade                 0.000000\n",
      "sqft_above            0.000000\n",
      "sqft_basement         0.000000\n",
      "yr_built             -0.000000\n",
      "yr_renovated          0.000000\n",
      "dtype: float64\n"
     ]
    }
   ],
   "source": [
    " print (pd.Series(model_all.coef_,index=all_features))"
   ]
  },
  {
   "cell_type": "code",
   "execution_count": 34,
   "metadata": {
    "collapsed": false
   },
   "outputs": [],
   "source": [
    "from sklearn.model_selection import train_test_split\n",
    "from sklearn.model_selection import cross_val_score"
   ]
  },
  {
   "cell_type": "code",
   "execution_count": 49,
   "metadata": {
    "collapsed": true
   },
   "outputs": [],
   "source": [
    "train_valid, test = train_test_split(sales, test_size=.1, random_state = 1)\n",
    "training , validation = train_test_split(train_valid,test_size=.5 , random_state = 1)"
   ]
  },
  {
   "cell_type": "code",
   "execution_count": 73,
   "metadata": {
    "collapsed": false
   },
   "outputs": [
    {
     "data": {
      "text/html": [
       "<div>\n",
       "<table border=\"1\" class=\"dataframe\">\n",
       "  <thead>\n",
       "    <tr style=\"text-align: right;\">\n",
       "      <th></th>\n",
       "      <th>id</th>\n",
       "      <th>date</th>\n",
       "      <th>price</th>\n",
       "      <th>bedrooms</th>\n",
       "      <th>bathrooms</th>\n",
       "      <th>sqft_living</th>\n",
       "      <th>sqft_lot</th>\n",
       "      <th>floors</th>\n",
       "      <th>waterfront</th>\n",
       "      <th>view</th>\n",
       "      <th>...</th>\n",
       "      <th>yr_renovated</th>\n",
       "      <th>zipcode</th>\n",
       "      <th>lat</th>\n",
       "      <th>long</th>\n",
       "      <th>sqft_living15</th>\n",
       "      <th>sqft_lot15</th>\n",
       "      <th>sqft_living_sqrt</th>\n",
       "      <th>sqft_lot_sqrt</th>\n",
       "      <th>bedrooms_square</th>\n",
       "      <th>floors_square</th>\n",
       "    </tr>\n",
       "  </thead>\n",
       "  <tbody>\n",
       "    <tr>\n",
       "      <th>1512</th>\n",
       "      <td>5255690060</td>\n",
       "      <td>20150318T000000</td>\n",
       "      <td>413000.0</td>\n",
       "      <td>5</td>\n",
       "      <td>2.50</td>\n",
       "      <td>2900</td>\n",
       "      <td>8711</td>\n",
       "      <td>1.0</td>\n",
       "      <td>0</td>\n",
       "      <td>0</td>\n",
       "      <td>...</td>\n",
       "      <td>0</td>\n",
       "      <td>98011</td>\n",
       "      <td>47.7752</td>\n",
       "      <td>-122.197</td>\n",
       "      <td>2340</td>\n",
       "      <td>8869</td>\n",
       "      <td>53.851648</td>\n",
       "      <td>93.332738</td>\n",
       "      <td>25</td>\n",
       "      <td>1.0</td>\n",
       "    </tr>\n",
       "    <tr>\n",
       "      <th>8718</th>\n",
       "      <td>8029650040</td>\n",
       "      <td>20140519T000000</td>\n",
       "      <td>373000.0</td>\n",
       "      <td>3</td>\n",
       "      <td>2.50</td>\n",
       "      <td>1670</td>\n",
       "      <td>3565</td>\n",
       "      <td>2.0</td>\n",
       "      <td>0</td>\n",
       "      <td>0</td>\n",
       "      <td>...</td>\n",
       "      <td>0</td>\n",
       "      <td>98072</td>\n",
       "      <td>47.7623</td>\n",
       "      <td>-122.161</td>\n",
       "      <td>1510</td>\n",
       "      <td>3770</td>\n",
       "      <td>40.865633</td>\n",
       "      <td>59.707621</td>\n",
       "      <td>9</td>\n",
       "      <td>4.0</td>\n",
       "    </tr>\n",
       "    <tr>\n",
       "      <th>21430</th>\n",
       "      <td>2838000180</td>\n",
       "      <td>20150220T000000</td>\n",
       "      <td>700000.0</td>\n",
       "      <td>3</td>\n",
       "      <td>2.50</td>\n",
       "      <td>2230</td>\n",
       "      <td>4006</td>\n",
       "      <td>2.0</td>\n",
       "      <td>0</td>\n",
       "      <td>0</td>\n",
       "      <td>...</td>\n",
       "      <td>0</td>\n",
       "      <td>98133</td>\n",
       "      <td>47.7300</td>\n",
       "      <td>-122.335</td>\n",
       "      <td>2230</td>\n",
       "      <td>4180</td>\n",
       "      <td>47.222876</td>\n",
       "      <td>63.292970</td>\n",
       "      <td>9</td>\n",
       "      <td>4.0</td>\n",
       "    </tr>\n",
       "    <tr>\n",
       "      <th>3181</th>\n",
       "      <td>2329810590</td>\n",
       "      <td>20140806T000000</td>\n",
       "      <td>285000.0</td>\n",
       "      <td>3</td>\n",
       "      <td>2.50</td>\n",
       "      <td>1940</td>\n",
       "      <td>9874</td>\n",
       "      <td>2.0</td>\n",
       "      <td>0</td>\n",
       "      <td>0</td>\n",
       "      <td>...</td>\n",
       "      <td>0</td>\n",
       "      <td>98042</td>\n",
       "      <td>47.3794</td>\n",
       "      <td>-122.113</td>\n",
       "      <td>1860</td>\n",
       "      <td>8875</td>\n",
       "      <td>44.045431</td>\n",
       "      <td>99.368003</td>\n",
       "      <td>9</td>\n",
       "      <td>4.0</td>\n",
       "    </tr>\n",
       "    <tr>\n",
       "      <th>4021</th>\n",
       "      <td>2473371780</td>\n",
       "      <td>20140924T000000</td>\n",
       "      <td>359950.0</td>\n",
       "      <td>5</td>\n",
       "      <td>2.25</td>\n",
       "      <td>2450</td>\n",
       "      <td>9432</td>\n",
       "      <td>2.0</td>\n",
       "      <td>0</td>\n",
       "      <td>0</td>\n",
       "      <td>...</td>\n",
       "      <td>0</td>\n",
       "      <td>98058</td>\n",
       "      <td>47.4519</td>\n",
       "      <td>-122.130</td>\n",
       "      <td>2310</td>\n",
       "      <td>9100</td>\n",
       "      <td>49.497475</td>\n",
       "      <td>97.118484</td>\n",
       "      <td>25</td>\n",
       "      <td>4.0</td>\n",
       "    </tr>\n",
       "  </tbody>\n",
       "</table>\n",
       "<p>5 rows × 25 columns</p>\n",
       "</div>"
      ],
      "text/plain": [
       "               id             date     price  bedrooms  bathrooms  \\\n",
       "1512   5255690060  20150318T000000  413000.0         5       2.50   \n",
       "8718   8029650040  20140519T000000  373000.0         3       2.50   \n",
       "21430  2838000180  20150220T000000  700000.0         3       2.50   \n",
       "3181   2329810590  20140806T000000  285000.0         3       2.50   \n",
       "4021   2473371780  20140924T000000  359950.0         5       2.25   \n",
       "\n",
       "       sqft_living  sqft_lot  floors  waterfront  view      ...        \\\n",
       "1512          2900      8711     1.0           0     0      ...         \n",
       "8718          1670      3565     2.0           0     0      ...         \n",
       "21430         2230      4006     2.0           0     0      ...         \n",
       "3181          1940      9874     2.0           0     0      ...         \n",
       "4021          2450      9432     2.0           0     0      ...         \n",
       "\n",
       "       yr_renovated  zipcode      lat     long  sqft_living15  sqft_lot15  \\\n",
       "1512              0    98011  47.7752 -122.197           2340        8869   \n",
       "8718              0    98072  47.7623 -122.161           1510        3770   \n",
       "21430             0    98133  47.7300 -122.335           2230        4180   \n",
       "3181              0    98042  47.3794 -122.113           1860        8875   \n",
       "4021              0    98058  47.4519 -122.130           2310        9100   \n",
       "\n",
       "       sqft_living_sqrt  sqft_lot_sqrt  bedrooms_square  floors_square  \n",
       "1512          53.851648      93.332738               25            1.0  \n",
       "8718          40.865633      59.707621                9            4.0  \n",
       "21430         47.222876      63.292970                9            4.0  \n",
       "3181          44.045431      99.368003                9            4.0  \n",
       "4021          49.497475      97.118484               25            4.0  \n",
       "\n",
       "[5 rows x 25 columns]"
      ]
     },
     "execution_count": 73,
     "metadata": {},
     "output_type": "execute_result"
    }
   ],
   "source": [
    "validation.head()"
   ]
  },
  {
   "cell_type": "code",
   "execution_count": 69,
   "metadata": {
    "collapsed": false
   },
   "outputs": [
    {
     "name": "stdout",
     "output_type": "stream",
     "text": [
      "[416119312130937.94, 6321858.6162638394, -15949.528622527692, 404.28392348826179, 51782.196054080341, 548.98229807789153, -38956.357150676558, 0.37173712082637389, -478.83643808923892, -0.0, 7341.5012050050645, 449594.44896866375, 38178.599702421401, 25891.824832001286, 127794.40943459232, 0.0, 8.3955639718310717, -3200.796405360029, 12.491310357365588]\n",
      "[426336112192818.19, 6021042.6099796165, -17599.287394410811, 155.10498674676472, 45376.776016495925, 352.45499596861561, -19142.591803944135, 0.0, -233.30433584762517, 0.0, 6577.7317348750485, 438144.00108264352, 40515.196382407252, 18377.841928199738, 123581.24360750279, 0.0, 2.3019911109983378, -3256.3592607581572, 5.854013394692573]\n",
      "[459629571807217.75, 5007429.085606155, -7543.1647228553002, -0.0, 27592.640903786309, 156.49029411557879, -0.0, -0.0, -106.79158321578888, 0.0, 2391.6177920733048, 401681.77976130217, 42106.145772834323, 4811.2676824490272, 117837.65728450517, 0.0, 0.0, -2920.4137588430294, 0.0]\n",
      "[509831182055762.31, 2344030.0221182127, -0.0, 0.0, 0.0, 154.10535364187453, 0.0, -0.0, -0.0, 0.0, 0.0, 234494.5462297324, 39241.406645202893, 0.0, 96123.838023450982, 0.0, 0.0, -1458.5614060335006, 0.0]\n",
      "[711390920848551.62, -87045.160918382346, 0.0, 0.0, 0.0, 124.82164867000772, 0.0, 0.0, 0.0, 0.0, 0.0, 0.0, 0.0, 0.0, 47672.746062915852, 0.0, 0.0, -0.0, 0.0]\n",
      "[1290758247403060.8, 538291.44236503856, 0.0, 0.0, 0.0, 0.0, 0.0, 0.0, 0.0, 0.0, 0.0, 0.0, 0.0, 0.0, 0.0, 0.0, 0.0, 0.0, 0.0]\n",
      "[1290758247403060.8, 538291.44236503856, 0.0, 0.0, 0.0, 0.0, 0.0, 0.0, 0.0, 0.0, 0.0, 0.0, 0.0, 0.0, 0.0, 0.0, 0.0, 0.0, 0.0]\n",
      "[1290758247403060.8, 538291.44236503856, 0.0, 0.0, 0.0, 0.0, 0.0, 0.0, 0.0, 0.0, 0.0, 0.0, 0.0, 0.0, 0.0, 0.0, 0.0, 0.0, 0.0]\n",
      "[1290758247403060.8, 538291.44236503856, 0.0, 0.0, 0.0, 0.0, 0.0, 0.0, 0.0, 0.0, 0.0, 0.0, 0.0, 0.0, 0.0, 0.0, 0.0, 0.0, 0.0]\n",
      "[1290758247403060.8, 538291.44236503856, 0.0, 0.0, 0.0, 0.0, 0.0, 0.0, 0.0, 0.0, 0.0, 0.0, 0.0, 0.0, 0.0, 0.0, 0.0, 0.0, 0.0]\n",
      "[1290758247403060.8, 538291.44236503856, 0.0, 0.0, 0.0, 0.0, 0.0, 0.0, 0.0, 0.0, 0.0, 0.0, 0.0, 0.0, 0.0, 0.0, 0.0, 0.0, 0.0]\n",
      "[1290758247403060.8, 538291.44236503856, 0.0, 0.0, 0.0, 0.0, 0.0, 0.0, 0.0, 0.0, 0.0, 0.0, 0.0, 0.0, 0.0, 0.0, 0.0, 0.0, 0.0]\n",
      "[1290758247403060.8, 538291.44236503856, 0.0, 0.0, 0.0, 0.0, 0.0, 0.0, 0.0, 0.0, 0.0, 0.0, 0.0, 0.0, 0.0, 0.0, 0.0, 0.0, 0.0]\n"
     ]
    }
   ],
   "source": [
    "import numpy as np\n",
    "import pprint \n",
    "\n",
    "validation_rss={}\n",
    "for l1_penalty in np.logspace(1, 7, num=13):\n",
    "    model = linear_model.Lasso(alpha = l1_penalty, normalize=True)\n",
    "    model.fit(training[all_features], training['price'])\n",
    "    prediction = model.predict(validation[all_features])\n",
    "    residuals = validation['price'] - prediction\n",
    "    rss = sum(residuals**2)\n",
    "    validation_rss[l1_penalty] = rss\n",
    "#     ret = [rss]\n",
    "#     ret.extend([model.intercept_])\n",
    "#     ret.extend(model.coef_)\n",
    "#     print(ret) \n"
   ]
  },
  {
   "cell_type": "code",
   "execution_count": 67,
   "metadata": {
    "collapsed": false
   },
   "outputs": [
    {
     "name": "stdout",
     "output_type": "stream",
     "text": [
      "(10.0, 416119312130937.94)\n"
     ]
    }
   ],
   "source": [
    "print (min(validation_rss.items(), key=lambda x: x[1]) )"
   ]
  },
  {
   "cell_type": "code",
   "execution_count": 70,
   "metadata": {
    "collapsed": false
   },
   "outputs": [],
   "source": [
    "model_test = linear_model.Lasso(alpha = 10.0, normalize=True)\n",
    "model_test.fit(training[all_features], training['price'])\n",
    "prediction_test = model.predict(test[all_features])\n",
    "residuals_test = test['price']-prediction_test\n",
    "rss_test = sum(residuals_test**2)"
   ]
  },
  {
   "cell_type": "code",
   "execution_count": 71,
   "metadata": {
    "collapsed": false
   },
   "outputs": [
    {
     "name": "stdout",
     "output_type": "stream",
     "text": [
      "3.47133389363e+14\n",
      "[ 538291.44236504  538291.44236504  538291.44236504 ...,  538291.44236504\n",
      "  538291.44236504  538291.44236504]\n"
     ]
    }
   ],
   "source": [
    "print (rss_test)\n",
    "print (prediction_test)"
   ]
  },
  {
   "cell_type": "code",
   "execution_count": 72,
   "metadata": {
    "collapsed": false
   },
   "outputs": [
    {
     "name": "stdout",
     "output_type": "stream",
     "text": [
      "bedrooms            -15949.528623\n",
      "bedrooms_square        404.283923\n",
      "bathrooms            51782.196054\n",
      "sqft_living            548.982298\n",
      "sqft_living_sqrt    -38956.357151\n",
      "sqft_lot                 0.371737\n",
      "sqft_lot_sqrt         -478.836438\n",
      "floors                  -0.000000\n",
      "floors_square         7341.501205\n",
      "waterfront          449594.448969\n",
      "view                 38178.599702\n",
      "condition            25891.824832\n",
      "grade               127794.409435\n",
      "sqft_above               0.000000\n",
      "sqft_basement            8.395564\n",
      "yr_built             -3200.796405\n",
      "yr_renovated            12.491310\n",
      "dtype: float64\n"
     ]
    }
   ],
   "source": [
    "print (pd.Series(model_test.coef_,index=all_features))"
   ]
  },
  {
   "cell_type": "markdown",
   "metadata": {},
   "source": [
    "## Limit the number of nonzero weights"
   ]
  },
  {
   "cell_type": "code",
   "execution_count": 74,
   "metadata": {
    "collapsed": true
   },
   "outputs": [],
   "source": [
    "max_nonzeros = 7"
   ]
  },
  {
   "cell_type": "code",
   "execution_count": 84,
   "metadata": {
    "collapsed": false
   },
   "outputs": [
    {
     "name": "stdout",
     "output_type": "stream",
     "text": [
      "[  100.           112.88378917   127.42749857   143.84498883   162.37767392\n",
      "   183.29807108   206.91380811   233.57214691   263.66508987   297.63514416\n",
      "   335.98182863   379.26901907   428.13323987   483.29302386   545.55947812\n",
      "   615.84821107   695.19279618   784.75997035   885.86679041  1000.        ]\n"
     ]
    }
   ],
   "source": [
    "#possible l1 penalty values \n",
    "l1_penalty_values = np.logspace(2, 3, num=20)\n",
    "print (l1_penalty_values)"
   ]
  },
  {
   "cell_type": "code",
   "execution_count": 98,
   "metadata": {
    "collapsed": false
   },
   "outputs": [],
   "source": [
    "coef_dict= pd.Series()\n",
    "for l1_penalty in l1_penalty_values:\n",
    "    model_non = linear_model.Lasso(alpha = l1_penalty, normalize=True)\n",
    "    model_non.fit(training[all_features], training['price'])\n",
    "    coef_dict[l1_penalty]=model_non.coef_\n",
    "#    print (pd.Series(model_non.coef_,index=all_features))"
   ]
  },
  {
   "cell_type": "code",
   "execution_count": 100,
   "metadata": {
    "collapsed": false
   },
   "outputs": [
    {
     "data": {
      "text/plain": [
       "array([ -7.54316472e+03,  -0.00000000e+00,   2.75926409e+04,\n",
       "         1.56490294e+02,  -0.00000000e+00,  -0.00000000e+00,\n",
       "        -1.06791583e+02,   0.00000000e+00,   2.39161779e+03,\n",
       "         4.01681780e+05,   4.21061458e+04,   4.81126768e+03,\n",
       "         1.17837657e+05,   0.00000000e+00,   0.00000000e+00,\n",
       "        -2.92041376e+03,   0.00000000e+00])"
      ]
     },
     "execution_count": 100,
     "metadata": {},
     "output_type": "execute_result"
    }
   ],
   "source": [
    "coef_dict[100.000000]"
   ]
  },
  {
   "cell_type": "code",
   "execution_count": null,
   "metadata": {
    "collapsed": true
   },
   "outputs": [],
   "source": []
  }
 ],
 "metadata": {
  "kernelspec": {
   "display_name": "Python 3",
   "language": "python",
   "name": "python3"
  },
  "language_info": {
   "codemirror_mode": {
    "name": "ipython",
    "version": 3
   },
   "file_extension": ".py",
   "mimetype": "text/x-python",
   "name": "python",
   "nbconvert_exporter": "python",
   "pygments_lexer": "ipython3",
   "version": "3.6.0"
  }
 },
 "nbformat": 4,
 "nbformat_minor": 2
}
