{
 "cells": [
  {
   "cell_type": "code",
   "execution_count": 1,
   "metadata": {
    "collapsed": true
   },
   "outputs": [],
   "source": [
    "import pandas as pd\n",
    "import numpy as np"
   ]
  },
  {
   "cell_type": "code",
   "execution_count": 43,
   "metadata": {
    "collapsed": false
   },
   "outputs": [],
   "source": [
    "house_data = pd.read_csv(\"housePrice/kc_house_data.csv\",\n",
    "                         dtype = {'bathrooms':float, 'waterfront':int, 'sqft_above':int, \n",
    "                                  'sqft_living15':float, 'grade':int, 'yr_renovated':int, \n",
    "                                  'price':float, 'bedrooms':float, 'zipcode':str, \n",
    "                                  'long':float, 'sqft_lot15':float, 'sqft_living':float, \n",
    "                                  'floors':str, 'condition':int, 'lat':float, 'date':str,\n",
    "                                  'sqft_basement':int, 'yr_built':int, 'id':str, 'sqft_lot':int, \n",
    "                                  'view':int})\n",
    "train_data = pd.read_csv(\"housePrice/kc_house_train_data.csv\",\n",
    "                         dtype = {'bathrooms':float, 'waterfront':int, 'sqft_above':int, \n",
    "                                  'sqft_living15':float, 'grade':int, 'yr_renovated':int, \n",
    "                                  'price':float, 'bedrooms':float, 'zipcode':str, 'long':float, \n",
    "                                  'sqft_lot15':float, 'sqft_living':float, 'floors':str, \n",
    "                                  'condition':int, 'lat':float, 'date':str, 'sqft_basement':int, \n",
    "                                  'yr_built':int, 'id':str, 'sqft_lot':int, 'view':int})\n",
    "test_data = pd.read_csv(\"housePrice/kc_house_test_data.csv\",\n",
    "                        dtype = {'bathrooms':float, 'waterfront':int, 'sqft_above':int, \n",
    "                                 'sqft_living15':float, 'grade':int, 'yr_renovated':int, \n",
    "                                 'price':float, 'bedrooms':float, 'zipcode':str, 'long':float, \n",
    "                                 'sqft_lot15':float, 'sqft_living':float, 'floors':str, 'condition':int, \n",
    "                                 'lat':float, 'date':str, 'sqft_basement':int, 'yr_built':int, 'id':str,\n",
    "                                 'sqft_lot':int, 'view':int})"
   ]
  },
  {
   "cell_type": "markdown",
   "metadata": {},
   "source": [
    "# Build a generic simple linear regression function "
   ]
  },
  {
   "cell_type": "code",
   "execution_count": 9,
   "metadata": {
    "collapsed": true
   },
   "outputs": [],
   "source": [
    "def simple_linear_regression(input_feature,output):\n",
    "    numerator = (input_feature * output).mean(axis=0) - (output.mean(axis=0))*(input_feature.mean(axis=0))\n",
    "    denominator = (input_feature**2).mean(axis=0) - input_feature.mean(axis=0) * input_feature.mean(axis=0)\n",
    "    slope = numerator/denominator\n",
    "    intercept = output.mean(axis=0) - slope * (input_feature.mean(axis=0))\n",
    "    return (intercept, slope)"
   ]
  },
  {
   "cell_type": "markdown",
   "metadata": {},
   "source": [
    "convert panda dataframe to numpy array "
   ]
  },
  {
   "cell_type": "code",
   "execution_count": 10,
   "metadata": {
    "collapsed": true
   },
   "outputs": [],
   "source": [
    "sqft_living = train_data['sqft_living']"
   ]
  },
  {
   "cell_type": "code",
   "execution_count": 11,
   "metadata": {
    "collapsed": true
   },
   "outputs": [],
   "source": [
    "sqft_living_list = [i for i in train_data['sqft_living']]"
   ]
  },
  {
   "cell_type": "code",
   "execution_count": 14,
   "metadata": {
    "collapsed": false
   },
   "outputs": [],
   "source": [
    "sqft_living_array = np.array(sqft_living_list)"
   ]
  },
  {
   "cell_type": "code",
   "execution_count": 16,
   "metadata": {
    "collapsed": true
   },
   "outputs": [],
   "source": [
    "price_list = [m for m in train_data['price']]\n",
    "price_list_array = np.array(price_list)"
   ]
  },
  {
   "cell_type": "code",
   "execution_count": 17,
   "metadata": {
    "collapsed": true
   },
   "outputs": [],
   "source": [
    "intercept_train,slope_train = simple_linear_regression(sqft_living_array, price_list_array)"
   ]
  },
  {
   "cell_type": "code",
   "execution_count": 20,
   "metadata": {
    "collapsed": false
   },
   "outputs": [
    {
     "name": "stdout",
     "output_type": "stream",
     "text": [
      "Intercept: -47116.0790729\n",
      "Slope: 281.95883963\n"
     ]
    }
   ],
   "source": [
    "print (\"Intercept: \"+ str(intercept_train))\n",
    "print (\"Slope: \" + str(slope_train))"
   ]
  },
  {
   "cell_type": "markdown",
   "metadata": {},
   "source": [
    "# Predicting Values"
   ]
  },
  {
   "cell_type": "code",
   "execution_count": 21,
   "metadata": {
    "collapsed": true
   },
   "outputs": [],
   "source": [
    "def get_regression_predictions(input_feature, intercept, slope):\n",
    "    predicted_output = intercept + input_feature * slope\n",
    "    return(predicted_output)\n"
   ]
  },
  {
   "cell_type": "code",
   "execution_count": 23,
   "metadata": {
    "collapsed": false
   },
   "outputs": [
    {
     "name": "stdout",
     "output_type": "stream",
     "text": [
      "700074.845948\n"
     ]
    }
   ],
   "source": [
    "input_feature = 2650\n",
    "print (get_regression_predictions(2650, intercept_train, slope_train))"
   ]
  },
  {
   "cell_type": "markdown",
   "metadata": {},
   "source": [
    "# Residual Sum of Squares"
   ]
  },
  {
   "cell_type": "code",
   "execution_count": 32,
   "metadata": {
    "collapsed": true
   },
   "outputs": [],
   "source": [
    "#def get_residual_sum_of_squares(input_feature, output, intercept,slope):\n",
    "#    RSS = (((intercept + input_feature*slope) - output)**2).sum(axis=0)\n",
    "#    return(RSS)\n",
    "#print (get_residual_sum_of_squares(sqft_living_list,price_list_array,intercept_train,slope_train))"
   ]
  },
  {
   "cell_type": "markdown",
   "metadata": {},
   "source": [
    "rewrite function using lambda"
   ]
  },
  {
   "cell_type": "code",
   "execution_count": 29,
   "metadata": {
    "collapsed": true
   },
   "outputs": [],
   "source": [
    "def get_residual_sum_of_squares(input_feature, output, intercept, slope):\n",
    "    # First get the predictions\n",
    "    predictions = input_feature.apply(lambda x:get_regression_predictions(x, intercept, slope))\n",
    "    # then compute the residuals (since we are squaring it doesn't matter which order you subtract)\n",
    "    diff = np.subtract(predictions,output)\n",
    "    # square the residuals and add them up\n",
    "    RSS = np.vdot(diff,diff)\n",
    "    return(RSS)"
   ]
  },
  {
   "cell_type": "code",
   "execution_count": 31,
   "metadata": {
    "collapsed": false
   },
   "outputs": [
    {
     "name": "stdout",
     "output_type": "stream",
     "text": [
      "1.20191835418e+15\n"
     ]
    }
   ],
   "source": [
    "print (get_residual_sum_of_squares(sqft_living,price_list_array,intercept_train,slope_train))"
   ]
  },
  {
   "cell_type": "markdown",
   "metadata": {},
   "source": [
    "# Predict the squarefeet given price"
   ]
  },
  {
   "cell_type": "code",
   "execution_count": 39,
   "metadata": {
    "collapsed": true
   },
   "outputs": [],
   "source": [
    "def inverse_regression_predictions(output, intercept, slope):\n",
    "    estimated_input = (output - intercept)/slope\n",
    "    return(estimated_input)"
   ]
  },
  {
   "cell_type": "code",
   "execution_count": 42,
   "metadata": {
    "collapsed": false
   },
   "outputs": [
    {
     "name": "stdout",
     "output_type": "stream",
     "text": [
      "3004.39624515\n"
     ]
    }
   ],
   "source": [
    "my_house_price = 800000\n",
    "print (inverse_regression_predictions(my_house_price,intercept_train,slope_train))\n",
    "#print （\"The estimated squarefeet for a house worth $%.2f is %d\" % (my_house_price, estimated_squarefeet)）"
   ]
  },
  {
   "cell_type": "markdown",
   "metadata": {},
   "source": [
    "# Which feature has the lowest RSS on TEST data "
   ]
  },
  {
   "cell_type": "code",
   "execution_count": 44,
   "metadata": {
    "collapsed": true
   },
   "outputs": [],
   "source": [
    "sqft_living_array_test = np.array([a for a in test_data['sqft_living']])\n",
    "bedrooms_array_test = np.array([b for b in test_data['bedrooms']])\n",
    "price_array_test = np.array([c for c in test_data['price']])"
   ]
  },
  {
   "cell_type": "code",
   "execution_count": 45,
   "metadata": {
    "collapsed": true
   },
   "outputs": [],
   "source": [
    "intercept_sqf,slope_sqf = simple_linear_regression(sqft_living_array_test,price_array_test)"
   ]
  },
  {
   "cell_type": "code",
   "execution_count": 46,
   "metadata": {
    "collapsed": false
   },
   "outputs": [
    {
     "name": "stdout",
     "output_type": "stream",
     "text": [
      "sqft_living Intercept: -47116.0790729\n",
      "sqft_living Slope: 281.95883963\n"
     ]
    }
   ],
   "source": [
    "print (\"sqft_living Intercept: \"+ str(intercept_train))\n",
    "print (\"sqft_living Slope: \" + str(slope_train))"
   ]
  },
  {
   "cell_type": "code",
   "execution_count": 47,
   "metadata": {
    "collapsed": false
   },
   "outputs": [
    {
     "name": "stdout",
     "output_type": "stream",
     "text": [
      "bedrooms Intercept: -47116.0790729\n",
      "bedrooms Slope: 281.95883963\n"
     ]
    }
   ],
   "source": [
    "intercept_sqf,slope_sqf = simple_linear_regression(bedrooms_array_test,price_array_test)\n",
    "print (\"bedrooms Intercept: \"+ str(intercept_train))\n",
    "print (\"bedrooms Slope: \" + str(slope_train))"
   ]
  },
  {
   "cell_type": "code",
   "execution_count": 50,
   "metadata": {
    "collapsed": true
   },
   "outputs": [],
   "source": [
    "def get_residual_sum_of_squares(input_feature, output, intercept,slope):\n",
    "    RSS = (((intercept + input_feature*slope) - output)**2).sum(axis=0)\n",
    "    return(RSS)"
   ]
  },
  {
   "cell_type": "code",
   "execution_count": 51,
   "metadata": {
    "collapsed": false
   },
   "outputs": [
    {
     "name": "stdout",
     "output_type": "stream",
     "text": [
      "2.28515324205e+20\n"
     ]
    }
   ],
   "source": [
    "intercept_br, slope_br = simple_linear_regression(bedrooms_array_test,price_array_test)\n",
    "RSS_sqf = get_residual_sum_of_squares(sqft_living_array_test,price_array_test,intercept_sqf,slope_sqf)\n",
    "RSS_br = get_residual_sum_of_squares(bedrooms_array_test,price_array_test,intercept_br,slope_br)\n",
    "print (RSS_sqf - RSS_br)"
   ]
  },
  {
   "cell_type": "code",
   "execution_count": null,
   "metadata": {
    "collapsed": true
   },
   "outputs": [],
   "source": []
  }
 ],
 "metadata": {
  "kernelspec": {
   "display_name": "Python 3",
   "language": "python",
   "name": "python3"
  },
  "language_info": {
   "codemirror_mode": {
    "name": "ipython",
    "version": 3
   },
   "file_extension": ".py",
   "mimetype": "text/x-python",
   "name": "python",
   "nbconvert_exporter": "python",
   "pygments_lexer": "ipython3",
   "version": "3.6.0"
  }
 },
 "nbformat": 4,
 "nbformat_minor": 2
}
